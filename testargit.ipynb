{
 "cells": [
  {
   "cell_type": "markdown",
   "id": "eb7550a9-893b-4b7e-a83d-11299cb5bbda",
   "metadata": {},
   "source": [
    "# Testar Git \n"
   ]
  },
  {
   "cell_type": "code",
   "execution_count": 5,
   "id": "a5228514-6014-40d8-8057-49a9f1bf2762",
   "metadata": {},
   "outputs": [
    {
     "name": "stdout",
     "output_type": "stream",
     "text": [
      "Nicole\n"
     ]
    }
   ],
   "source": [
    "my_name = \"Nicole\"\n",
    "print(my_name)"
   ]
  }
 ],
 "metadata": {
  "kernelspec": {
   "display_name": "Python 3 (ipykernel)",
   "language": "python",
   "name": "python3"
  },
  "language_info": {
   "codemirror_mode": {
    "name": "ipython",
    "version": 3
   },
   "file_extension": ".py",
   "mimetype": "text/x-python",
   "name": "python",
   "nbconvert_exporter": "python",
   "pygments_lexer": "ipython3",
   "version": "3.12.4"
  }
 },
 "nbformat": 4,
 "nbformat_minor": 5
}
